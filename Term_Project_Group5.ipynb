{
 "cells": [
  {
   "cell_type": "code",
   "execution_count": 1,
   "metadata": {},
   "outputs": [],
   "source": [
    "from pyspark import SparkConf, SparkContext\n",
    "from operator import itemgetter, attrgetter\n",
    "import heapq\n",
    "import time\n",
    "import matplotlib.pyplot as plt"
   ]
  },
  {
   "cell_type": "code",
   "execution_count": 2,
   "metadata": {},
   "outputs": [],
   "source": [
    "def mapper0(x):\n",
    "    ans = x.split(',')\n",
    "    ans_type = [int(ans[1]), [(int(ans[0]), float(ans[2]))]]\n",
    "    return tuple(ans_type)"
   ]
  },
  {
   "cell_type": "code",
   "execution_count": 3,
   "metadata": {},
   "outputs": [],
   "source": [
    "def mapper1(x):\n",
    "    List = [item[1] for item in x[1]]\n",
    "    avg = sum(List) / len(List)\n",
    "    Sum = 0\n",
    "    for item in List:\n",
    "        Sum += pow(item-avg, 2)\n",
    "    return [(x[0], pow(Sum, 0.5))] if Sum != 0 else []"
   ]
  },
  {
   "cell_type": "code",
   "execution_count": 4,
   "metadata": {},
   "outputs": [],
   "source": [
    "def mapper2(x):\n",
    "    List = [item[1] for item in x[1]]\n",
    "    avg = sum(List) / len(List)\n",
    "    return [(item[0], [(x[0], item[1] - avg)]) for item in x[1]]"
   ]
  },
  {
   "cell_type": "code",
   "execution_count": 5,
   "metadata": {},
   "outputs": [],
   "source": [
    "def mapper3(x):\n",
    "    ans = []\n",
    "    List = [item for item in x[1] if item[1] != 0]\n",
    "    for item1 in List:\n",
    "        for item2 in List:\n",
    "            if item1 < item2:\n",
    "                ans.append(((item1[0], item2[0]), item1[1] * item2[1]))\n",
    "    return ans"
   ]
  },
  {
   "cell_type": "code",
   "execution_count": 6,
   "metadata": {},
   "outputs": [],
   "source": [
    "def mapper4(x):\n",
    "    not_zero = x[1][0][2] * x[1][1]\n",
    "    ans = x[1][0][1] / not_zero if not_zero != 0 else 0\n",
    "    return ((x[1][0][0], x[0]), ans)"
   ]
  },
  {
   "cell_type": "code",
   "execution_count": 7,
   "metadata": {},
   "outputs": [],
   "source": [
    "def mapper_switch1(x):\n",
    "    return (x[0][0], (x[0][1], x[1]))\n",
    "\n",
    "def mapper_switch2(x):\n",
    "    return (x[1][0][0], (x[0], x[1][0][1], x[1][1]))"
   ]
  },
  {
   "cell_type": "code",
   "execution_count": 8,
   "metadata": {},
   "outputs": [],
   "source": [
    "def reducer1(x, y):\n",
    "    return x + y"
   ]
  },
  {
   "cell_type": "code",
   "execution_count": 9,
   "metadata": {},
   "outputs": [],
   "source": [
    "sc = SparkContext.getOrCreate()\n",
    "doc = sc.textFile(\"./input.csv\")\n",
    "rating_per_item = doc.map(mapper0).reduceByKey(reducer1)\n",
    "avg_per_item = rating_per_item.flatMap(mapper1)"
   ]
  },
  {
   "cell_type": "code",
   "execution_count": 10,
   "metadata": {},
   "outputs": [],
   "source": [
    "rating_per_user = rating_per_item.flatMap(mapper2).reduceByKey(reducer1)"
   ]
  },
  {
   "cell_type": "code",
   "execution_count": 11,
   "metadata": {},
   "outputs": [],
   "source": [
    "ratings_per_pair = rating_per_user.flatMap(mapper3).reduceByKey(reducer1)\n",
    "ratings_per_pair = ratings_per_pair.map(mapper_switch1).join(avg_per_item)\n",
    "ratings_per_pair = ratings_per_pair.map(mapper_switch2).join(avg_per_item)\n",
    "ratings_per_pair = ratings_per_pair.map(mapper4)"
   ]
  },
  {
   "cell_type": "code",
   "execution_count": 12,
   "metadata": {},
   "outputs": [],
   "source": [
    "sorted_ans = sorted(ratings_per_pair.collect())"
   ]
  },
  {
   "cell_type": "code",
   "execution_count": 13,
   "metadata": {},
   "outputs": [
    {
     "name": "stdout",
     "output_type": "stream",
     "text": [
      "[((1, 2), -0.17854212213729673), ((1, 3), 0.41403933560541256), ((1, 4), -0.10245014273309601), ((1, 5), -0.30895719032666236), ((1, 6), 0.5870395085642741), ((2, 3), -0.5262348115842176), ((2, 4), 0.46800784077976615), ((2, 5), 0.39891071573694176), ((2, 6), -0.3064397582621859), ((3, 4), -0.6239806502223061), ((3, 5), -0.2842676218074806), ((3, 6), 0.5063696835418333), ((4, 5), 0.45873490213598356), ((4, 6), -0.2353393621658208), ((5, 6), -0.21591675854376524)]\n"
     ]
    }
   ],
   "source": [
    "f = open(\"./Output.txt\", 'a')\n",
    "for ans in sorted_ans:\n",
    "    f.write('(%d,%d),%.2f\\n'%(ans[0][0], ans[0][1], ans[1]))\n",
    "print(sorted_ans)"
   ]
  },
  {
   "cell_type": "code",
   "execution_count": 14,
   "metadata": {
    "scrolled": true
   },
   "outputs": [],
   "source": [
    "def mapper0_0_1(x):\n",
    "    ans = x.split(',')\n",
    "    ans_type = [int(ans[0]), [((int(ans[1])), float(ans[2]))]]\n",
    "    return tuple(ans_type)\n",
    "\n",
    "def mapper0_1(x):\n",
    "    if x[1] <= 0: return []\n",
    "    return [] if x[1] <= 0 else [(x[0][0], [(x[0][1], x[1])])]\n",
    "\n",
    "movies_per_user = doc.map(mapper0_0_1).reduceByKey(reducer1)\n",
    "movie_list = rating_per_item.keys().collect()\n",
    "sim_double = ratings_per_pair.flatMap(mapper0_1).reduceByKey(reducer1).collect()"
   ]
  },
  {
   "cell_type": "code",
   "execution_count": 15,
   "metadata": {},
   "outputs": [],
   "source": [
    "def mapper0_2(x, sim_double, movie_list):\n",
    "    ans = []\n",
    "    exist_movie = [data[0] for data in x[1]]\n",
    "    missing_movie = list(set(movie_list) - set(exist_movie))\n",
    "    Dict = {}\n",
    "    for item in sim_double:\n",
    "        Dict[item[0]] = {}\n",
    "        for sim in item[1]:\n",
    "            Dict[item[0]][sim[0]] = sim[1]\n",
    "    for movie1 in missing_movie:\n",
    "        sim_list = []\n",
    "        sim_rating_dict = {}\n",
    "        for (movie2, rating) in x[1]:\n",
    "            id1 = min(movie1, movie2)\n",
    "            id2 = max(movie1, movie2)\n",
    "            if Dict.get(id1) and Dict.get(id1).get(id2):\n",
    "                sim = Dict.get(id1).get(id2)\n",
    "                sim_list.append(sim)\n",
    "                if sim_rating_dict.get(sim):\n",
    "                    sim_rating_dict[sim] += [rating]\n",
    "                else:\n",
    "                    sim_rating_dict[sim] = [rating]\n",
    "                \n",
    "        for sim in sim_rating_dict:\n",
    "            sim_rating_dict[sim] = sum(sim_rating_dict[sim]) / len(sim_rating_dict[sim])\n",
    "                \n",
    "        top_ten_list = heapq.nlargest(10, sim_list) \n",
    "        down = sum(top_ten_list)\n",
    "        up = sum(sim * sim_rating_dict[sim] for sim in top_ten_list)\n",
    "        if down != 0:\n",
    "            ans.append((movie1, up / down))\n",
    "    return (x[0], ans)\n",
    "\n",
    "predict_sims = movies_per_user.map(lambda x: mapper0_2(x, sim_double, movie_list))\n",
    "predict_ans = predict_sims.collect()"
   ]
  },
  {
   "cell_type": "code",
   "execution_count": 16,
   "metadata": {},
   "outputs": [
    {
     "name": "stdout",
     "output_type": "stream",
     "text": [
      "[(1, []), (2, [(1, 4.0), (2, 2.0), (5, 2.0), (6, 4.0)]), (3, [(3, 3.0)]), (4, [(1, 1.0), (4, 3.5050029734328474), (6, 1.0)]), (5, [(1, 2.586406866934817), (2, 4.539852143274253)]), (6, [(2, 2.0), (3, 5.0), (4, 2.0), (6, 5.0)]), (7, [(1, 3.0), (4, 4.0), (5, 4.0), (6, 3.0)]), (8, [(1, 2.0), (2, 4.0), (3, 2.0), (5, 4.0)]), (9, [(6, 4.536889128793153)]), (10, [(1, 3.0), (4, 2.0), (5, 2.0), (6, 3.0)]), (11, []), (12, [(4, 3.9899940531343057)])]\n"
     ]
    }
   ],
   "source": [
    "f = open(\"./Outputfile-bonus.txt\", 'a')\n",
    "sorted_predict_ans = sorted(predict_ans)\n",
    "for ans in sorted(predict_ans):\n",
    "    for e in sorted(ans[1]):\n",
    "        f.write('(%d,%d),%.2f\\n'%(ans[0], e[0], e[1]))\n",
    "f.close()\n",
    "print(sorted_predict_ans)"
   ]
  },
  {
   "cell_type": "code",
   "execution_count": null,
   "metadata": {},
   "outputs": [],
   "source": [
    "def generate_table(c):\n",
    "    Dict = {\"c1\": c[0], \"c2\": c[1]}\n",
    "    DF = pd.DataFrame(Dict,index=[i+1 for i in range(20)])\n",
    "    display(DF)\n",
    "generate_table(sorted_predict_ans)"
   ]
  }
 ],
 "metadata": {
  "kernelspec": {
   "display_name": "Python 3",
   "language": "python",
   "name": "python3"
  },
  "language_info": {
   "codemirror_mode": {
    "name": "ipython",
    "version": 3
   },
   "file_extension": ".py",
   "mimetype": "text/x-python",
   "name": "python",
   "nbconvert_exporter": "python",
   "pygments_lexer": "ipython3",
   "version": "3.6.11"
  }
 },
 "nbformat": 4,
 "nbformat_minor": 4
}
